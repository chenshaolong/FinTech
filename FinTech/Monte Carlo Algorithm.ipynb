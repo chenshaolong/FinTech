{
 "cells": [
  {
   "cell_type": "code",
   "execution_count": 31,
   "metadata": {
    "collapsed": true
   },
   "outputs": [],
   "source": [
    "import numpy as np"
   ]
  },
  {
   "cell_type": "code",
   "execution_count": 32,
   "metadata": {
    "collapsed": true
   },
   "outputs": [],
   "source": [
    "def bsm_mcs_valuation(strike):\n",
    "    \"\"\"\n",
    "    Dynamic Black-Scholes-Merton Monte Carlo estimator\n",
    "    for European calls.\n",
    "    Parameters\n",
    "    ==========\n",
    "    strike : float\n",
    "        strike price of the option\n",
    "    Results\n",
    "    =======\n",
    "    value : float\n",
    "        estimate for present value of call option\n",
    "    \"\"\"\n",
    "    S0 = 100.; T = 1.0; r = 0.05; vola = 0.2\n",
    "    M = 50; I = 20000\n",
    "    dt = T / M\n",
    "    rand = np.random.standard_normal((M+1, I))\n",
    "    S = np.zeros((M + 1, I)); S[0] = S0\n",
    "    for t in range(1, M + 1):\n",
    "        S[t] = S[t-1] * np.exp((r - 0.5 * vola ** 2) * dt + vola * np.sqrt(dt) * rand[t])\n",
    "    value = (np.exp(-r * T) * np.sum(np.maximum(S[-1] - strike, 0)) / I)\n",
    "    return value"
   ]
  },
  {
   "cell_type": "code",
   "execution_count": 33,
   "metadata": {
    "collapsed": true
   },
   "outputs": [],
   "source": [
    "def seq_value(n):\n",
    "    \"\"\"\n",
    "    Sequential option valuation.\n",
    "    Parameters\n",
    "    ==========\n",
    "    n : int\n",
    "        number of option valuations/strikes\n",
    "    \"\"\"\n",
    "    strikes = np.linspace(80, 120, n)\n",
    "    option_values = []\n",
    "    for strike in strikes:\n",
    "        option_values.append(bsm_mcs_valuation(strike))\n",
    "    return strikes, option_values"
   ]
  },
  {
   "cell_type": "code",
   "execution_count": 34,
   "metadata": {
    "collapsed": false
   },
   "outputs": [
    {
     "name": "stdout",
     "output_type": "stream",
     "text": [
      "CPU times: user 6.44 s, sys: 373 ms, total: 6.81 s\n",
      "Wall time: 6.94 s\n"
     ]
    }
   ],
   "source": [
    "n = 100  # number of options to be valued\n",
    "%time strikes, option_values_seq = seq_value(n)"
   ]
  },
  {
   "cell_type": "code",
   "execution_count": 35,
   "metadata": {
    "collapsed": false
   },
   "outputs": [
    {
     "data": {
      "text/plain": [
       "<matplotlib.text.Text at 0x10e3d7790>"
      ]
     },
     "execution_count": 35,
     "metadata": {},
     "output_type": "execute_result"
    },
    {
     "data": {
      "image/png": "[encoded data removed]",
      "text/plain": [
       "<matplotlib.figure.Figure at 0x10e3c1e90>"
      ]
     },
     "metadata": {},
     "output_type": "display_data"
    }
   ],
   "source": [
    "import matplotlib.pyplot as plt\n",
    "%matplotlib inline\n",
    "plt.figure(figsize=(8, 4))\n",
    "plt.plot(strikes, option_values_seq, 'b')\n",
    "plt.plot(strikes, option_values_seq, 'r.')\n",
    "plt.grid(True)\n",
    "plt.xlabel('strikes')\n",
    "plt.ylabel('European call option values')"
   ]
  },
  {
   "cell_type": "code",
   "execution_count": 37,
   "metadata": {
    "collapsed": false
   },
   "outputs": [],
   "source": [
    "# model & option parameter\n",
    "S0 = 100.  # initial index level\n",
    "T = 1.  # call option maturity\n",
    "r = 0.05  # constant short rate\n",
    "vola = 0.20  # constant volatility factor of diffusion\n",
    "# time parameters\n",
    "M = 1000 # time steps\n",
    "dt=T/M #lengthoftimeinterval\n",
    "df = np.exp(-r * dt) # discount factor per time interval\n",
    "# binomial parameters\n",
    "u = np.exp(vola * np.sqrt(dt)) # up-movement\n",
    "d = 1 / u # down-movement\n",
    "q = (np.exp(r * dt) - d) / (u - d) # martingale probability"
   ]
  },
  {
   "cell_type": "code",
   "execution_count": 38,
   "metadata": {
    "collapsed": true
   },
   "outputs": [],
   "source": [
    "def binomial_py(strike):\n",
    "    \"\"\"Binomial option pricing via looping.\n",
    "    Parameters\n",
    "    ==========\n",
    "    strike : float\n",
    "        strike price of the European call option\n",
    "    \"\"\"\n",
    "    # LOOP 1 - Index Levels\n",
    "    S = np.zeros((M + 1, M + 1), dtype=np.float64)\n",
    "    # index level array\n",
    "    S[0, 0] = S0\n",
    "    z1 = 0\n",
    "    for j in xrange(1, M + 1, 1):\n",
    "        z1 = z1 + 1\n",
    "        for i in xrange(z1 + 1):\n",
    "            S[i, j] = S[0, 0] * (u ** j) * (d ** (i * 2))\n",
    "    # LOOP 2 - Inner Values\n",
    "    iv = np.zeros((M + 1, M + 1), dtype=np.float64)\n",
    "    # inner value array\n",
    "    z2 = 0\n",
    "    for j in xrange(0, M + 1, 1):\n",
    "        for i in xrange(z2 + 1):\n",
    "            iv[i, j] = max(S[i, j] - strike, 0)\n",
    "        z2 = z2 + 1\n",
    "    # LOOP 3 - Valuation\n",
    "    pv = np.zeros((M + 1, M + 1), dtype=np.float64)\n",
    "    # present value array\n",
    "    pv[:, M] = iv[:, M]  # initialize last time point\n",
    "    z3 = M + 1\n",
    "    for j in xrange(M - 1, -1, -1):\n",
    "        z3 = z3 - 1\n",
    "        for i in xrange(z3):\n",
    "            pv[i, j] = (q * pv[i, j + 1] + (1 - q) * pv[i + 1, j + 1]) * df\n",
    "    return pv[0, 0]"
   ]
  },
  {
   "cell_type": "code",
   "execution_count": 39,
   "metadata": {
    "collapsed": false
   },
   "outputs": [
    {
     "name": "stdout",
     "output_type": "stream",
     "text": [
      "CPU times: user 2.78 s, sys: 106 ms, total: 2.88 s\n",
      "Wall time: 2.86 s\n"
     ]
    },
    {
     "data": {
      "text/plain": [
       "10.449"
      ]
     },
     "execution_count": 39,
     "metadata": {},
     "output_type": "execute_result"
    }
   ],
   "source": [
    "%time round(binomial_py(100), 3)"
   ]
  },
  {
   "cell_type": "code",
   "execution_count": 40,
   "metadata": {
    "collapsed": false
   },
   "outputs": [
    {
     "name": "stdout",
     "output_type": "stream",
     "text": [
      "CPU times: user 67.5 ms, sys: 3.85 ms, total: 71.4 ms\n",
      "Wall time: 70.7 ms\n"
     ]
    },
    {
     "data": {
      "text/plain": [
       "10.489"
      ]
     },
     "execution_count": 40,
     "metadata": {},
     "output_type": "execute_result"
    }
   ],
   "source": [
    "%time round(bsm_mcs_valuation(100), 3)"
   ]
  },
  {
   "cell_type": "code",
   "execution_count": 44,
   "metadata": {
    "collapsed": false
   },
   "outputs": [],
   "source": [
    "def binomial_np(strike):\n",
    "    \"\"\"\n",
    "    Binomial option pricing with NumPy.\n",
    "    Parameters\n",
    "    ==========\n",
    "    strike : float\n",
    "        strike price of the European call option\n",
    "    \"\"\"\n",
    "    # Index Levels with NumPy\n",
    "    mu = np.arange(M + 1)\n",
    "    mu = np.resize(mu, (M + 1, M + 1))\n",
    "    md = np.transpose(mu)\n",
    "    mu = u ** (mu - md)\n",
    "    md = d ** md\n",
    "    S = S0 * mu * md\n",
    "    # Valuation Loop\n",
    "    pv = np.maximum(S - strike, 0)\n",
    "    z=0\n",
    "    for t in range(M - 1, -1, -1): # backward iteration\n",
    "        pv[0:M - z, t] = (q * pv[0:M - z, t + 1] + (1 - q) * pv[1:M - z + 1, t + 1]) * df\n",
    "        z += 1\n",
    "    return pv[0, 0]"
   ]
  },
  {
   "cell_type": "code",
   "execution_count": 45,
   "metadata": {
    "collapsed": false
   },
   "outputs": [
    {
     "data": {
      "text/plain": [
       "array([0, 1, 2, 3, 4])"
      ]
     },
     "execution_count": 45,
     "metadata": {},
     "output_type": "execute_result"
    }
   ],
   "source": [
    "M = 4  # four time steps only\n",
    "mu = np.arange(M + 1)\n",
    "mu"
   ]
  },
  {
   "cell_type": "code",
   "execution_count": 46,
   "metadata": {
    "collapsed": false
   },
   "outputs": [
    {
     "data": {
      "text/plain": [
       "array([[0, 1, 2, 3, 4],\n",
       "       [0, 1, 2, 3, 4],\n",
       "       [0, 1, 2, 3, 4],\n",
       "       [0, 1, 2, 3, 4],\n",
       "       [0, 1, 2, 3, 4]])"
      ]
     },
     "execution_count": 46,
     "metadata": {},
     "output_type": "execute_result"
    }
   ],
   "source": [
    "mu = np.resize(mu, (M + 1, M + 1))\n",
    "mu"
   ]
  },
  {
   "cell_type": "code",
   "execution_count": 47,
   "metadata": {
    "collapsed": false
   },
   "outputs": [
    {
     "data": {
      "text/plain": [
       "array([[0, 0, 0, 0, 0],\n",
       "       [1, 1, 1, 1, 1],\n",
       "       [2, 2, 2, 2, 2],\n",
       "       [3, 3, 3, 3, 3],\n",
       "       [4, 4, 4, 4, 4]])"
      ]
     },
     "execution_count": 47,
     "metadata": {},
     "output_type": "execute_result"
    }
   ],
   "source": [
    "md = np.transpose(mu)\n",
    "md"
   ]
  },
  {
   "cell_type": "code",
   "execution_count": 49,
   "metadata": {
    "collapsed": false
   },
   "outputs": [
    {
     "data": {
      "text/plain": [
       "array([[ 1.   ,  1.006,  1.013,  1.019,  1.026],\n",
       "       [ 0.994,  1.   ,  1.006,  1.013,  1.019],\n",
       "       [ 0.987,  0.994,  1.   ,  1.006,  1.013],\n",
       "       [ 0.981,  0.987,  0.994,  1.   ,  1.006],\n",
       "       [ 0.975,  0.981,  0.987,  0.994,  1.   ]])"
      ]
     },
     "execution_count": 49,
     "metadata": {},
     "output_type": "execute_result"
    }
   ],
   "source": [
    "mu = u ** (mu - md)   \n",
    "mu.round(3)"
   ]
  },
  {
   "cell_type": "code",
   "execution_count": 50,
   "metadata": {
    "collapsed": false
   },
   "outputs": [
    {
     "data": {
      "text/plain": [
       "array([[ 1.   ,  1.   ,  1.   ,  1.   ,  1.   ],\n",
       "       [ 0.994,  0.994,  0.994,  0.994,  0.994],\n",
       "       [ 0.987,  0.987,  0.987,  0.987,  0.987],\n",
       "       [ 0.981,  0.981,  0.981,  0.981,  0.981],\n",
       "       [ 0.975,  0.975,  0.975,  0.975,  0.975]])"
      ]
     },
     "execution_count": 50,
     "metadata": {},
     "output_type": "execute_result"
    }
   ],
   "source": [
    "md = d ** md\n",
    "md.round(3)"
   ]
  },
  {
   "cell_type": "code",
   "execution_count": 51,
   "metadata": {
    "collapsed": false
   },
   "outputs": [
    {
     "data": {
      "text/plain": [
       "array([[ 100.   ,  100.634,  101.273,  101.915,  102.562],\n",
       "       [  98.743,   99.37 ,  100.   ,  100.634,  101.273],\n",
       "       [  97.502,   98.121,   98.743,   99.37 ,  100.   ],\n",
       "       [  96.276,   96.887,   97.502,   98.121,   98.743],\n",
       "       [  95.066,   95.669,   96.276,   96.887,   97.502]])"
      ]
     },
     "execution_count": 51,
     "metadata": {},
     "output_type": "execute_result"
    }
   ],
   "source": [
    "S = S0 * mu * md\n",
    "S.round(3)"
   ]
  },
  {
   "cell_type": "code",
   "execution_count": 52,
   "metadata": {
    "collapsed": false
   },
   "outputs": [
    {
     "name": "stdout",
     "output_type": "stream",
     "text": [
      "CPU times: user 162 ms, sys: 23.8 ms, total: 185 ms\n",
      "Wall time: 186 ms\n"
     ]
    },
    {
     "data": {
      "text/plain": [
       "10.449"
      ]
     },
     "execution_count": 52,
     "metadata": {},
     "output_type": "execute_result"
    }
   ],
   "source": [
    "M = 1000  # reset number of time steps\n",
    "%time round(binomial_np(100), 3)"
   ]
  },
  {
   "cell_type": "code",
   "execution_count": 54,
   "metadata": {
    "collapsed": false
   },
   "outputs": [],
   "source": [
    "import numba as nb\n",
    "binomial_nb = nb.jit(binomial_py)"
   ]
  },
  {
   "cell_type": "code",
   "execution_count": 55,
   "metadata": {
    "collapsed": false
   },
   "outputs": [
    {
     "name": "stdout",
     "output_type": "stream",
     "text": [
      "CPU times: user 820 ms, sys: 53.5 ms, total: 873 ms\n",
      "Wall time: 925 ms\n"
     ]
    },
    {
     "data": {
      "text/plain": [
       "10.449"
      ]
     },
     "execution_count": 55,
     "metadata": {},
     "output_type": "execute_result"
    }
   ],
   "source": [
    "%time round(binomial_nb(100), 3)"
   ]
  },
  {
   "cell_type": "code",
   "execution_count": 56,
   "metadata": {
    "collapsed": true
   },
   "outputs": [],
   "source": [
    "def perf_comp_data(func_list, data_list, rep=3, number=1):\n",
    "    \"\"\"Function to compare the performance of different functions.\n",
    "       Parameters \n",
    "       ==========\n",
    "       func_list : list\n",
    "       list with function names as strings\n",
    "       data_list : list\n",
    "       list with data set names as strings\n",
    "       rep : int\n",
    "       number of repetitions of the whole comparison         \n",
    "       number : int\n",
    "       number of executions for every function\n",
    "    \"\"\"\n",
    "    from timeit import repeat\n",
    "    res_list = {}\n",
    "    for name in enumerate(func_list):\n",
    "        stmt = name[1] + '(' + data_list[name[0]] + ')'\n",
    "        setup = \"from __main__ import \" + name[1] + ', ' + data_list[name[0]]\n",
    "        results = repeat(stmt=stmt, setup=setup, repeat=rep, number=number)\n",
    "        res_list[name[1]] = sum(results) / rep\n",
    "    res_sort = sorted(res_list.iteritems(), key=lambda (k, v): (v, k))\n",
    "    for item in res_sort:\n",
    "        rel = item[1] / res_sort[0][1]\n",
    "        print 'function: ' + item[0] + ', av. time sec: %9.5f, ' % item[1] + 'relative: %6.1f' % rel"
   ]
  },
  {
   "cell_type": "code",
   "execution_count": 57,
   "metadata": {
    "collapsed": true
   },
   "outputs": [],
   "source": [
    "func_list = ['binomial_py', 'binomial_np', 'binomial_nb']\n",
    "K = 100.\n",
    "data_list = 3 * ['K']"
   ]
  },
  {
   "cell_type": "code",
   "execution_count": 58,
   "metadata": {
    "collapsed": false
   },
   "outputs": [
    {
     "name": "stdout",
     "output_type": "stream",
     "text": [
      "function: binomial_np, av. time sec:   0.16247, relative:    1.0\n",
      "function: binomial_nb, av. time sec:   0.22629, relative:    1.4\n",
      "function: binomial_py, av. time sec:   2.50596, relative:   15.4\n"
     ]
    }
   ],
   "source": [
    "perf_comp_data(func_list, data_list)"
   ]
  },
  {
   "cell_type": "code",
   "execution_count": 59,
   "metadata": {
    "collapsed": true
   },
   "outputs": [],
   "source": [
    "def f_py(I, J):\n",
    "    res = 0.  # we work on a float object\n",
    "    for i in range(I):\n",
    "        for j in range (J * I):\n",
    "            res += 1\n",
    "    return res"
   ]
  },
  {
   "cell_type": "code",
   "execution_count": 60,
   "metadata": {
    "collapsed": false
   },
   "outputs": [
    {
     "name": "stdout",
     "output_type": "stream",
     "text": [
      "CPU times: user 26.2 s, sys: 706 ms, total: 26.9 s\n",
      "Wall time: 26.8 s\n"
     ]
    },
    {
     "data": {
      "text/plain": [
       "125000000.0"
      ]
     },
     "execution_count": 60,
     "metadata": {},
     "output_type": "execute_result"
    }
   ],
   "source": [
    "I, J = 500, 500\n",
    "%time f_py(I, J)"
   ]
  },
  {
   "cell_type": "code",
   "execution_count": 63,
   "metadata": {
    "collapsed": false
   },
   "outputs": [
    {
     "data": {
      "text/plain": [
       "(None, <pyximport.pyximport.PyxImporter at 0x113db7b50>)"
      ]
     },
     "execution_count": 63,
     "metadata": {},
     "output_type": "execute_result"
    }
   ],
   "source": [
    "import pyximport\n",
    "pyximport.install()"
   ]
  },
  {
   "cell_type": "code",
   "execution_count": 64,
   "metadata": {
    "collapsed": true
   },
   "outputs": [],
   "source": [
    "import sys\n",
    "sys.path.append('data/')\n",
    "# path to the Cython script\n",
    "# not needed if in same directory"
   ]
  },
  {
   "cell_type": "code",
   "execution_count": 65,
   "metadata": {
    "collapsed": true
   },
   "outputs": [],
   "source": [
    "from nested_loop import f_cy"
   ]
  },
  {
   "cell_type": "code",
   "execution_count": 66,
   "metadata": {
    "collapsed": false
   },
   "outputs": [
    {
     "name": "stdout",
     "output_type": "stream",
     "text": [
      "CPU times: user 148 ms, sys: 811 µs, total: 149 ms\n",
      "Wall time: 150 ms\n"
     ]
    }
   ],
   "source": [
    "%time res = f_cy(I, J)"
   ]
  },
  {
   "cell_type": "code",
   "execution_count": 67,
   "metadata": {
    "collapsed": false
   },
   "outputs": [
    {
     "data": {
      "text/plain": [
       "125000000.0"
      ]
     },
     "execution_count": 67,
     "metadata": {},
     "output_type": "execute_result"
    }
   ],
   "source": [
    "res"
   ]
  },
  {
   "cell_type": "code",
   "execution_count": 70,
   "metadata": {
    "collapsed": false
   },
   "outputs": [],
   "source": [
    "%load_ext Cython"
   ]
  },
  {
   "cell_type": "code",
   "execution_count": 73,
   "metadata": {
    "collapsed": false
   },
   "outputs": [],
   "source": [
    "%%cython\n",
    "# Nested loop example with Cython\n",
    "def f_cy(int I, int J):\n",
    "    cdef double res = 0\n",
    "    # double float much slower than int or long\n",
    "    for i in range(I):\n",
    "        for j in range (J * I):\n",
    "            res += 1\n",
    "    return res"
   ]
  },
  {
   "cell_type": "code",
   "execution_count": 74,
   "metadata": {
    "collapsed": false
   },
   "outputs": [
    {
     "name": "stdout",
     "output_type": "stream",
     "text": [
      "CPU times: user 144 ms, sys: 943 µs, total: 145 ms\n",
      "Wall time: 146 ms\n"
     ]
    }
   ],
   "source": [
    "%time res = f_cy(I, J)"
   ]
  },
  {
   "cell_type": "code",
   "execution_count": 75,
   "metadata": {
    "collapsed": false
   },
   "outputs": [
    {
     "data": {
      "text/plain": [
       "125000000.0"
      ]
     },
     "execution_count": 75,
     "metadata": {},
     "output_type": "execute_result"
    }
   ],
   "source": [
    "res"
   ]
  },
  {
   "cell_type": "code",
   "execution_count": 76,
   "metadata": {
    "collapsed": true
   },
   "outputs": [],
   "source": [
    "f_nb = nb.jit(f_py)"
   ]
  },
  {
   "cell_type": "code",
   "execution_count": 77,
   "metadata": {
    "collapsed": false
   },
   "outputs": [
    {
     "name": "stdout",
     "output_type": "stream",
     "text": [
      "CPU times: user 273 ms, sys: 17.9 ms, total: 291 ms\n",
      "Wall time: 287 ms\n"
     ]
    }
   ],
   "source": [
    "%time res = f_nb(I, J)"
   ]
  },
  {
   "cell_type": "code",
   "execution_count": 78,
   "metadata": {
    "collapsed": false
   },
   "outputs": [
    {
     "data": {
      "text/plain": [
       "125000000.0"
      ]
     },
     "execution_count": 78,
     "metadata": {},
     "output_type": "execute_result"
    }
   ],
   "source": [
    "res"
   ]
  },
  {
   "cell_type": "code",
   "execution_count": 79,
   "metadata": {
    "collapsed": true
   },
   "outputs": [],
   "source": [
    "func_list = ['f_py', 'f_cy', 'f_nb']\n",
    "I, J = 500, 500\n",
    "data_list = 3 * ['I, J']"
   ]
  },
  {
   "cell_type": "code",
   "execution_count": 82,
   "metadata": {
    "collapsed": false
   },
   "outputs": [
    {
     "name": "stdout",
     "output_type": "stream",
     "text": [
      "function: f_nb, av. time sec:   0.14414, relative:    1.0\n",
      "function: f_cy, av. time sec:   0.15652, relative:    1.1\n",
      "function: f_py, av. time sec:  27.94806, relative:  193.9\n"
     ]
    }
   ],
   "source": [
    "perf_comp_data(func_list, data_list)"
   ]
  }
 ],
 "metadata": {
  "kernelspec": {
   "display_name": "Python [conda root]",
   "language": "python",
   "name": "conda-root-py"
  },
  "language_info": {
   "codemirror_mode": {
    "name": "ipython",
    "version": 2
   },
   "file_extension": ".py",
   "mimetype": "text/x-python",
   "name": "python",
   "nbconvert_exporter": "python",
   "pygments_lexer": "ipython2",
   "version": "2.7.12"
  }
 },
 "nbformat": 4,
 "nbformat_minor": 1
}
