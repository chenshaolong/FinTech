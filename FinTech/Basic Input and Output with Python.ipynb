{
 "cells": [
  {
   "cell_type": "code",
   "execution_count": 64,
   "metadata": {
    "collapsed": true
   },
   "outputs": [],
   "source": [
    "import numpy as np\n",
    "import pandas as pd\n",
    "import pickle\n",
    "from random import gauss"
   ]
  },
  {
   "cell_type": "code",
   "execution_count": 26,
   "metadata": {
    "collapsed": true
   },
   "outputs": [],
   "source": [
    "a = [gauss(1.5, 2) for i in range(1000000)]"
   ]
  },
  {
   "cell_type": "code",
   "execution_count": 27,
   "metadata": {
    "collapsed": true
   },
   "outputs": [],
   "source": [
    "mkdir data "
   ]
  },
  {
   "cell_type": "code",
   "execution_count": 28,
   "metadata": {
    "collapsed": false
   },
   "outputs": [],
   "source": [
    "path = './data/'"
   ]
  },
  {
   "cell_type": "code",
   "execution_count": 29,
   "metadata": {
    "collapsed": false
   },
   "outputs": [],
   "source": [
    "pkl_file = open(path+'data.pkl', 'w')"
   ]
  },
  {
   "cell_type": "code",
   "execution_count": 30,
   "metadata": {
    "collapsed": false
   },
   "outputs": [
    {
     "name": "stdout",
     "output_type": "stream",
     "text": [
      "CPU times: user 5.49 s, sys: 95.7 ms, total: 5.58 s\n",
      "Wall time: 5.8 s\n"
     ]
    }
   ],
   "source": [
    "%time pickle.dump(a, pkl_file)"
   ]
  },
  {
   "cell_type": "code",
   "execution_count": 31,
   "metadata": {
    "collapsed": false
   },
   "outputs": [
    {
     "data": {
      "text/plain": [
       "<open file './data/data.pkl', mode 'w' at 0x104432270>"
      ]
     },
     "execution_count": 31,
     "metadata": {},
     "output_type": "execute_result"
    }
   ],
   "source": [
    "pkl_file"
   ]
  },
  {
   "cell_type": "code",
   "execution_count": 32,
   "metadata": {
    "collapsed": true
   },
   "outputs": [],
   "source": [
    "pkl_file.close()"
   ]
  },
  {
   "cell_type": "code",
   "execution_count": 33,
   "metadata": {
    "collapsed": false
   },
   "outputs": [
    {
     "name": "stdout",
     "output_type": "stream",
     "text": [
      "-rw-r--r--  1 shaolongchen  staff  20971287 May 24 20:05 ./data/data.pkl\r\n"
     ]
    }
   ],
   "source": [
    "ll $path*"
   ]
  },
  {
   "cell_type": "code",
   "execution_count": 34,
   "metadata": {
    "collapsed": true
   },
   "outputs": [],
   "source": [
    "pkl_file = open(path+'data.pkl', 'r')"
   ]
  },
  {
   "cell_type": "code",
   "execution_count": 35,
   "metadata": {
    "collapsed": false
   },
   "outputs": [
    {
     "name": "stdout",
     "output_type": "stream",
     "text": [
      "CPU times: user 4.7 s, sys: 57.7 ms, total: 4.76 s\n",
      "Wall time: 4.79 s\n"
     ]
    }
   ],
   "source": [
    "%time b = pickle.load(pkl_file)"
   ]
  },
  {
   "cell_type": "code",
   "execution_count": 36,
   "metadata": {
    "collapsed": false
   },
   "outputs": [
    {
     "data": {
      "text/plain": [
       "[-1.2716919570693959,\n",
       " 2.781850283444185,\n",
       " 2.2526975434782948,\n",
       " 0.46759556125849433,\n",
       " 0.309300613840493]"
      ]
     },
     "execution_count": 36,
     "metadata": {},
     "output_type": "execute_result"
    }
   ],
   "source": [
    "b[:5]"
   ]
  },
  {
   "cell_type": "code",
   "execution_count": 37,
   "metadata": {
    "collapsed": false
   },
   "outputs": [
    {
     "data": {
      "text/plain": [
       "[-1.2716919570693959,\n",
       " 2.781850283444185,\n",
       " 2.2526975434782948,\n",
       " 0.46759556125849433,\n",
       " 0.309300613840493]"
      ]
     },
     "execution_count": 37,
     "metadata": {},
     "output_type": "execute_result"
    }
   ],
   "source": [
    "a[:5]"
   ]
  },
  {
   "cell_type": "code",
   "execution_count": 38,
   "metadata": {
    "collapsed": false
   },
   "outputs": [
    {
     "data": {
      "text/plain": [
       "True"
      ]
     },
     "execution_count": 38,
     "metadata": {},
     "output_type": "execute_result"
    }
   ],
   "source": [
    "np.allclose(np.array(a), np.array(b))"
   ]
  },
  {
   "cell_type": "code",
   "execution_count": 39,
   "metadata": {
    "collapsed": false
   },
   "outputs": [
    {
     "data": {
      "text/plain": [
       "0.0"
      ]
     },
     "execution_count": 39,
     "metadata": {},
     "output_type": "execute_result"
    }
   ],
   "source": [
    "np.sum(np.array(a)-np.array(b))"
   ]
  },
  {
   "cell_type": "code",
   "execution_count": 40,
   "metadata": {
    "collapsed": true
   },
   "outputs": [],
   "source": [
    "pkl_file = open(path+'data.pkl', 'w')"
   ]
  },
  {
   "cell_type": "code",
   "execution_count": 41,
   "metadata": {
    "collapsed": false
   },
   "outputs": [
    {
     "name": "stdout",
     "output_type": "stream",
     "text": [
      "CPU times: user 836 ms, sys: 71.7 ms, total: 908 ms\n",
      "Wall time: 917 ms\n"
     ]
    }
   ],
   "source": [
    "%time pickle.dump(np.array(a), pkl_file)"
   ]
  },
  {
   "cell_type": "code",
   "execution_count": 43,
   "metadata": {
    "collapsed": false
   },
   "outputs": [
    {
     "name": "stdout",
     "output_type": "stream",
     "text": [
      "CPU times: user 760 ms, sys: 64.1 ms, total: 824 ms\n",
      "Wall time: 844 ms\n"
     ]
    }
   ],
   "source": [
    "%time pickle.dump(np.array(a)**2, pkl_file)"
   ]
  },
  {
   "cell_type": "code",
   "execution_count": 44,
   "metadata": {
    "collapsed": true
   },
   "outputs": [],
   "source": [
    "pkl_file.close()"
   ]
  },
  {
   "cell_type": "code",
   "execution_count": 45,
   "metadata": {
    "collapsed": false
   },
   "outputs": [
    {
     "name": "stdout",
     "output_type": "stream",
     "text": [
      "-rw-r--r--  1 shaolongchen  staff  44087251 May 24 20:12 ./data/data.pkl\r\n"
     ]
    }
   ],
   "source": [
    "ll $path*"
   ]
  },
  {
   "cell_type": "code",
   "execution_count": 52,
   "metadata": {
    "collapsed": true
   },
   "outputs": [],
   "source": [
    "pkl_file = open(path+'data.pkl', 'r')"
   ]
  },
  {
   "cell_type": "code",
   "execution_count": 53,
   "metadata": {
    "collapsed": false
   },
   "outputs": [
    {
     "data": {
      "text/plain": [
       "array([-1.27169196,  2.78185028,  2.25269754, ...,  0.62528649,\n",
       "       -0.55918085,  3.15259636])"
      ]
     },
     "execution_count": 53,
     "metadata": {},
     "output_type": "execute_result"
    }
   ],
   "source": [
    "x = pickle.load(pkl_file)\n",
    "x"
   ]
  },
  {
   "cell_type": "code",
   "execution_count": 54,
   "metadata": {
    "collapsed": false
   },
   "outputs": [
    {
     "data": {
      "text/plain": [
       "array([ 1.61720043,  7.738691  ,  5.07464622, ...,  0.39098319,\n",
       "        0.31268323,  9.93886381])"
      ]
     },
     "execution_count": 54,
     "metadata": {},
     "output_type": "execute_result"
    }
   ],
   "source": [
    "y = pickle.load(pkl_file)\n",
    "y"
   ]
  },
  {
   "cell_type": "code",
   "execution_count": 55,
   "metadata": {
    "collapsed": true
   },
   "outputs": [],
   "source": [
    "pkl_file.close()"
   ]
  },
  {
   "cell_type": "code",
   "execution_count": 56,
   "metadata": {
    "collapsed": true
   },
   "outputs": [],
   "source": [
    "pkl_file = open(path+'data.pkl', 'w')\n",
    "pickle.dump({'x': x, 'y': y}, pkl_file)\n",
    "pkl_file.close()"
   ]
  },
  {
   "cell_type": "code",
   "execution_count": 57,
   "metadata": {
    "collapsed": false
   },
   "outputs": [
    {
     "name": "stdout",
     "output_type": "stream",
     "text": [
      "y [ 1.61720043  7.738691    5.07464622  0.21864561]\n",
      "x [-1.27169196  2.78185028  2.25269754  0.46759556]\n"
     ]
    }
   ],
   "source": [
    "pkl_file = open(path+'data.pkl', 'r')\n",
    "data = pickle.load(pkl_file)\n",
    "pkl_file.close()\n",
    "for key in data.keys():\n",
    "    print key, data[key][:4]"
   ]
  },
  {
   "cell_type": "code",
   "execution_count": 60,
   "metadata": {
    "collapsed": false
   },
   "outputs": [
    {
     "name": "stdout",
     "output_type": "stream",
     "text": [
      "y [ 1.61720043  7.738691    5.07464622  0.21864561]\n",
      "x [-1.27169196  2.78185028  2.25269754  0.46759556]\n"
     ]
    }
   ],
   "source": [
    "for k, v in data.items():\n",
    "    print k,v[:4]"
   ]
  },
  {
   "cell_type": "code",
   "execution_count": 61,
   "metadata": {
    "collapsed": true
   },
   "outputs": [],
   "source": [
    "!rm -f $path*"
   ]
  },
  {
   "cell_type": "code",
   "execution_count": 62,
   "metadata": {
    "collapsed": true
   },
   "outputs": [],
   "source": [
    "rows = 5000\n",
    "a = np.random.standard_normal((rows, 5))"
   ]
  },
  {
   "cell_type": "code",
   "execution_count": 63,
   "metadata": {
    "collapsed": false
   },
   "outputs": [
    {
     "data": {
      "text/plain": [
       "array([[-0.0705,  0.0398,  0.0616,  0.244 , -0.1183],\n",
       "       [ 0.4024, -1.5562, -0.646 , -0.3971, -1.0358],\n",
       "       [-0.4401, -1.2726,  0.1632, -0.4378,  1.6241],\n",
       "       ..., \n",
       "       [-0.9491, -0.8752, -0.8907, -0.752 , -0.2308],\n",
       "       [-0.0517, -0.7585,  1.1901,  1.8466, -0.9697],\n",
       "       [-0.5013,  0.9195,  0.7563,  1.0341,  0.3353]])"
      ]
     },
     "execution_count": 63,
     "metadata": {},
     "output_type": "execute_result"
    }
   ],
   "source": [
    "a.round(4)"
   ]
  },
  {
   "cell_type": "code",
   "execution_count": 66,
   "metadata": {
    "collapsed": false
   },
   "outputs": [],
   "source": [
    "t = pd.date_range(start='2014/1/1', periods=rows, freq='H')"
   ]
  },
  {
   "cell_type": "code",
   "execution_count": 67,
   "metadata": {
    "collapsed": false
   },
   "outputs": [
    {
     "data": {
      "text/plain": [
       "DatetimeIndex(['2014-01-01 00:00:00', '2014-01-01 01:00:00',\n",
       "               '2014-01-01 02:00:00', '2014-01-01 03:00:00',\n",
       "               '2014-01-01 04:00:00', '2014-01-01 05:00:00',\n",
       "               '2014-01-01 06:00:00', '2014-01-01 07:00:00',\n",
       "               '2014-01-01 08:00:00', '2014-01-01 09:00:00',\n",
       "               ...\n",
       "               '2014-07-27 22:00:00', '2014-07-27 23:00:00',\n",
       "               '2014-07-28 00:00:00', '2014-07-28 01:00:00',\n",
       "               '2014-07-28 02:00:00', '2014-07-28 03:00:00',\n",
       "               '2014-07-28 04:00:00', '2014-07-28 05:00:00',\n",
       "               '2014-07-28 06:00:00', '2014-07-28 07:00:00'],\n",
       "              dtype='datetime64[ns]', length=5000, freq='H')"
      ]
     },
     "execution_count": 67,
     "metadata": {},
     "output_type": "execute_result"
    }
   ],
   "source": [
    "t"
   ]
  },
  {
   "cell_type": "code",
   "execution_count": 73,
   "metadata": {
    "collapsed": true
   },
   "outputs": [],
   "source": [
    "csv_file = open(path+'data.csv', 'w')"
   ]
  },
  {
   "cell_type": "code",
   "execution_count": 74,
   "metadata": {
    "collapsed": true
   },
   "outputs": [],
   "source": [
    "header = 'data,no1,no2,no3,no4,no5\\n'\n",
    "csv_file.write(header)"
   ]
  },
  {
   "cell_type": "code",
   "execution_count": 76,
   "metadata": {
    "collapsed": false
   },
   "outputs": [],
   "source": [
    "for t_, (no1, no2, no3, no4, no5) in zip(t, a):\n",
    "    s = '%s,%f,%f,%f,%f,%f\\n' % (t_, no1, no2, no3, no4, no5)\n",
    "    csv_file.write(s)\n",
    "csv_file.close()"
   ]
  },
  {
   "cell_type": "code",
   "execution_count": 77,
   "metadata": {
    "collapsed": false
   },
   "outputs": [
    {
     "name": "stdout",
     "output_type": "stream",
     "text": [
      "-rw-r--r--  1 shaolongchen  staff  674607 May 24 20:34 ./data/data.csv\r\n"
     ]
    }
   ],
   "source": [
    "ll $path*"
   ]
  },
  {
   "cell_type": "code",
   "execution_count": 78,
   "metadata": {
    "collapsed": false
   },
   "outputs": [
    {
     "name": "stdout",
     "output_type": "stream",
     "text": [
      "data,no1,no2,no3,no4,no5\n",
      "2014-01-01 00:00:00,-0.070524,0.039786,0.061602,0.244043,-0.118305\n",
      "2014-01-01 01:00:00,0.402436,-1.556201,-0.646024,-0.397051,-1.035789\n",
      "2014-01-01 02:00:00,-0.440071,-1.272560,0.163231,-0.437831,1.624056\n",
      "2014-01-01 03:00:00,-0.368087,-0.661043,1.534949,0.127373,1.296445\n"
     ]
    }
   ],
   "source": [
    "csv_file = open(path+'data.csv', 'r')\n",
    "for i in range(5):\n",
    "    print csv_file.readline(),"
   ]
  },
  {
   "cell_type": "code",
   "execution_count": 79,
   "metadata": {
    "collapsed": false
   },
   "outputs": [
    {
     "name": "stdout",
     "output_type": "stream",
     "text": [
      "data,no1,no2,no3,no4,no5\n",
      "\n",
      "2014-01-01 00:00:00,-0.070524,0.039786,0.061602,0.244043,-0.118305\n",
      "\n",
      "2014-01-01 01:00:00,0.402436,-1.556201,-0.646024,-0.397051,-1.035789\n",
      "\n",
      "2014-01-01 02:00:00,-0.440071,-1.272560,0.163231,-0.437831,1.624056\n",
      "\n",
      "2014-01-01 03:00:00,-0.368087,-0.661043,1.534949,0.127373,1.296445\n",
      "\n"
     ]
    }
   ],
   "source": [
    "csv_file = open(path+'data.csv', 'r')\n",
    "content = csv_file.readlines()\n",
    "for line in content[:5]:\n",
    "    print line"
   ]
  },
  {
   "cell_type": "code",
   "execution_count": 80,
   "metadata": {
    "collapsed": true
   },
   "outputs": [],
   "source": [
    "csv_file.close()\n",
    "!rm -f $path*"
   ]
  },
  {
   "cell_type": "code",
   "execution_count": 102,
   "metadata": {
    "collapsed": true
   },
   "outputs": [],
   "source": [
    "import sqlite3 as sq3"
   ]
  },
  {
   "cell_type": "code",
   "execution_count": 103,
   "metadata": {
    "collapsed": true
   },
   "outputs": [],
   "source": [
    "query = 'CREATE TABLE numbs (Date date, No1 real, No2 real)'"
   ]
  },
  {
   "cell_type": "code",
   "execution_count": 104,
   "metadata": {
    "collapsed": true
   },
   "outputs": [],
   "source": [
    "con = sq3.connect(path+'numbs.db')"
   ]
  },
  {
   "cell_type": "code",
   "execution_count": 105,
   "metadata": {
    "collapsed": false
   },
   "outputs": [
    {
     "data": {
      "text/plain": [
       "<sqlite3.Cursor at 0x10e8262d0>"
      ]
     },
     "execution_count": 105,
     "metadata": {},
     "output_type": "execute_result"
    }
   ],
   "source": [
    "con.execute(query)"
   ]
  },
  {
   "cell_type": "code",
   "execution_count": 106,
   "metadata": {
    "collapsed": true
   },
   "outputs": [],
   "source": [
    "con.commit()"
   ]
  },
  {
   "cell_type": "code",
   "execution_count": 107,
   "metadata": {
    "collapsed": true
   },
   "outputs": [],
   "source": [
    "import datetime as dt"
   ]
  },
  {
   "cell_type": "code",
   "execution_count": 108,
   "metadata": {
    "collapsed": false
   },
   "outputs": [
    {
     "data": {
      "text/plain": [
       "<sqlite3.Cursor at 0x10e826110>"
      ]
     },
     "execution_count": 108,
     "metadata": {},
     "output_type": "execute_result"
    }
   ],
   "source": [
    "con.execute('INSERT INTO numbs VALUES(?, ?, ?)', (dt.datetime.now(), 0.12, 7.3))"
   ]
  },
  {
   "cell_type": "code",
   "execution_count": 109,
   "metadata": {
    "collapsed": false
   },
   "outputs": [],
   "source": [
    "data = np.random.standard_normal((10000, 2)).round(5)"
   ]
  },
  {
   "cell_type": "code",
   "execution_count": 110,
   "metadata": {
    "collapsed": true
   },
   "outputs": [],
   "source": [
    "for row in data:\n",
    "    con.execute('INSERT INTO numbs VALUES(?, ?, ?)', (dt.datetime.now(), row[0], row[1]))\n",
    "con.commit()"
   ]
  },
  {
   "cell_type": "code",
   "execution_count": 111,
   "metadata": {
    "collapsed": false
   },
   "outputs": [
    {
     "data": {
      "text/plain": [
       "[(u'2017-05-24 20:51:02.668289', 0.12, 7.3),\n",
       " (u'2017-05-24 20:51:09.258172', 0.34738, -0.9713),\n",
       " (u'2017-05-24 20:51:09.258476', 0.03794, -0.50022),\n",
       " (u'2017-05-24 20:51:09.258539', -1.62785, -0.77952),\n",
       " (u'2017-05-24 20:51:09.258589', 0.02433, 0.1472),\n",
       " (u'2017-05-24 20:51:09.258709', -2.82959, 1.13986),\n",
       " (u'2017-05-24 20:51:09.258782', 0.59489, -0.08416),\n",
       " (u'2017-05-24 20:51:09.258837', -1.40731, -1.32493),\n",
       " (u'2017-05-24 20:51:09.258899', -0.46339, -0.70127),\n",
       " (u'2017-05-24 20:51:09.258949', -1.3489, 0.62401)]"
      ]
     },
     "execution_count": 111,
     "metadata": {},
     "output_type": "execute_result"
    }
   ],
   "source": [
    "con.execute('SELECT * FROM numbs').fetchmany(10)"
   ]
  },
  {
   "cell_type": "code",
   "execution_count": 112,
   "metadata": {
    "collapsed": false
   },
   "outputs": [
    {
     "name": "stdout",
     "output_type": "stream",
     "text": [
      "(u'2017-05-24 20:51:02.668289', 0.12, 7.3)\n",
      "(u'2017-05-24 20:51:09.258172', 0.34738, -0.9713)\n",
      "(u'2017-05-24 20:51:09.258476', 0.03794, -0.50022)\n"
     ]
    }
   ],
   "source": [
    "pointer = con.execute('SELECT * FROM numbs')\n",
    "for i in range(3):\n",
    "    print pointer.fetchone()"
   ]
  },
  {
   "cell_type": "code",
   "execution_count": 113,
   "metadata": {
    "collapsed": true
   },
   "outputs": [],
   "source": [
    "con.close()\n",
    "!rm -f $path*"
   ]
  },
  {
   "cell_type": "code",
   "execution_count": 114,
   "metadata": {
    "collapsed": true
   },
   "outputs": [],
   "source": [
    "import numpy as np"
   ]
  },
  {
   "cell_type": "code",
   "execution_count": 115,
   "metadata": {
    "collapsed": false
   },
   "outputs": [
    {
     "data": {
      "text/plain": [
       "3681360"
      ]
     },
     "execution_count": 115,
     "metadata": {},
     "output_type": "execute_result"
    }
   ],
   "source": [
    "dtimes = np.arange('2015-01-01 10:00:00', '2021-12-31 22:00:00', dtype='datetime64[m]')\n",
    "len(dtimes)"
   ]
  },
  {
   "cell_type": "code",
   "execution_count": 117,
   "metadata": {
    "collapsed": false
   },
   "outputs": [],
   "source": [
    "dty = np.dtype([('Date', 'datetime64[m]'), ('No1', 'f'), ('No2', 'f')])\n",
    "data = np.zeros(len(dtimes), dtype=dty)"
   ]
  },
  {
   "cell_type": "code",
   "execution_count": 118,
   "metadata": {
    "collapsed": true
   },
   "outputs": [],
   "source": [
    "data['Date'] = dtimes"
   ]
  },
  {
   "cell_type": "code",
   "execution_count": 120,
   "metadata": {
    "collapsed": false
   },
   "outputs": [],
   "source": [
    "a = np.random.standard_normal((len(dtimes), 2)).round(5)\n",
    "data['No1'] = a[:, 0]\n",
    "data['No2'] = a[:, 1]"
   ]
  },
  {
   "cell_type": "code",
   "execution_count": 121,
   "metadata": {
    "collapsed": false
   },
   "outputs": [
    {
     "name": "stdout",
     "output_type": "stream",
     "text": [
      "CPU times: user 4.88 ms, sys: 133 ms, total: 138 ms\n",
      "Wall time: 199 ms\n"
     ]
    }
   ],
   "source": [
    "%time np.save(path+'array', data)"
   ]
  },
  {
   "cell_type": "code",
   "execution_count": 122,
   "metadata": {
    "collapsed": false
   },
   "outputs": [
    {
     "name": "stdout",
     "output_type": "stream",
     "text": [
      "-rw-r--r--  1 shaolongchen  staff  58901888 May 24 20:57 ./data/array.npy\r\n"
     ]
    }
   ],
   "source": [
    "ll $path*"
   ]
  },
  {
   "cell_type": "code",
   "execution_count": 123,
   "metadata": {
    "collapsed": false
   },
   "outputs": [
    {
     "name": "stdout",
     "output_type": "stream",
     "text": [
      "CPU times: user 2.68 ms, sys: 49 ms, total: 51.7 ms\n",
      "Wall time: 811 ms\n"
     ]
    },
    {
     "data": {
      "text/plain": [
       "array([ (datetime.datetime(2015, 1, 1, 10, 0), 0.7728800177574158, -0.3847300112247467),\n",
       "       (datetime.datetime(2015, 1, 1, 10, 1), -0.7022200226783752, 1.2079800367355347),\n",
       "       (datetime.datetime(2015, 1, 1, 10, 2), -0.8108900189399719, -0.19157999753952026),\n",
       "       ...,\n",
       "       (datetime.datetime(2021, 12, 31, 21, 57), 1.5415500402450562, -0.6472100019454956),\n",
       "       (datetime.datetime(2021, 12, 31, 21, 58), 1.8814400434494019, -1.176650047302246),\n",
       "       (datetime.datetime(2021, 12, 31, 21, 59), 1.0594600439071655, -0.5235700011253357)], \n",
       "      dtype=[('Date', '<M8[m]'), ('No1', '<f4'), ('No2', '<f4')])"
      ]
     },
     "execution_count": 123,
     "metadata": {},
     "output_type": "execute_result"
    }
   ],
   "source": [
    "%time np.load(path+'array.npy')"
   ]
  },
  {
   "cell_type": "code",
   "execution_count": 124,
   "metadata": {
    "collapsed": true
   },
   "outputs": [],
   "source": [
    "data = np.random.standard_normal((10000, 6000))"
   ]
  },
  {
   "cell_type": "code",
   "execution_count": 125,
   "metadata": {
    "collapsed": false
   },
   "outputs": [
    {
     "name": "stdout",
     "output_type": "stream",
     "text": [
      "CPU times: user 33.1 ms, sys: 5.34 s, total: 5.37 s\n",
      "Wall time: 6.86 s\n"
     ]
    }
   ],
   "source": [
    "%time np.save(path+'array', data)"
   ]
  },
  {
   "cell_type": "code",
   "execution_count": 126,
   "metadata": {
    "collapsed": false
   },
   "outputs": [
    {
     "name": "stdout",
     "output_type": "stream",
     "text": [
      "-rw-r--r--  1 shaolongchen  staff  480000080 May 24 20:59 ./data/array.npy\r\n"
     ]
    }
   ],
   "source": [
    "ll $path*"
   ]
  },
  {
   "cell_type": "code",
   "execution_count": 127,
   "metadata": {
    "collapsed": false
   },
   "outputs": [
    {
     "name": "stdout",
     "output_type": "stream",
     "text": [
      "CPU times: user 2.4 ms, sys: 633 ms, total: 636 ms\n",
      "Wall time: 1.86 s\n"
     ]
    },
    {
     "data": {
      "text/plain": [
       "array([[ 0.98065305, -0.33223401,  0.45933912, ...,  2.56426395,\n",
       "        -0.33936563, -0.52410328],\n",
       "       [ 0.80081149,  1.687483  ,  0.83063852, ...,  2.04699163,\n",
       "        -0.54600533, -1.37468229],\n",
       "       [-2.20126577,  0.84657452, -2.64239456, ...,  0.73202456,\n",
       "        -1.39536448, -0.75716483],\n",
       "       ..., \n",
       "       [ 0.55231287,  1.2857015 ,  0.16457321, ...,  1.27261675,\n",
       "         1.29951662, -0.26446683],\n",
       "       [ 0.67323342, -1.42295118,  0.47752731, ...,  0.27478281,\n",
       "         0.16155138,  0.06478749],\n",
       "       [ 1.78114415,  0.88774113, -1.358191  , ...,  0.71235431,\n",
       "         0.18555603, -0.21112835]])"
      ]
     },
     "execution_count": 127,
     "metadata": {},
     "output_type": "execute_result"
    }
   ],
   "source": [
    "%time np.load(path+'array.npy')"
   ]
  },
  {
   "cell_type": "code",
   "execution_count": 128,
   "metadata": {
    "collapsed": true
   },
   "outputs": [],
   "source": [
    "datta = 0.0\n",
    "!rm -f $path*"
   ]
  }
 ],
 "metadata": {
  "anaconda-cloud": {},
  "kernelspec": {
   "display_name": "Python [conda root]",
   "language": "python",
   "name": "conda-root-py"
  },
  "language_info": {
   "codemirror_mode": {
    "name": "ipython",
    "version": 2
   },
   "file_extension": ".py",
   "mimetype": "text/x-python",
   "name": "python",
   "nbconvert_exporter": "python",
   "pygments_lexer": "ipython2",
   "version": "2.7.12"
  }
 },
 "nbformat": 4,
 "nbformat_minor": 1
}
