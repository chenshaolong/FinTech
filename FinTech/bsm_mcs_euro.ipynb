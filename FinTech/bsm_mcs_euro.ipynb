{
 "cells": [
  {
   "cell_type": "code",
   "execution_count": 2,
   "metadata": {
    "collapsed": false
   },
   "outputs": [
    {
     "name": "stdout",
     "output_type": "stream",
     "text": [
      "Vale of the European Call Option 7.961 dollars\n"
     ]
    }
   ],
   "source": [
    "#Monte Carlovaluation of European call option in Black-Scholes-Merton model\n",
    "#bsm_mcs_euro.py\n",
    "\n",
    "from numpy import *   # alternatively, import numpy as np\n",
    "\n",
    "#parameter values\n",
    "S0 = 100.0   #initial index level\n",
    "K =105.0   #strike price\n",
    "T = 1.0   #time to maturity\n",
    "r = 0.05   #riskless short rate\n",
    "sigma = 0.2   #volatility\n",
    "I = 100000   #number of simulations\n",
    "\n",
    "#valuation algorithm\n",
    "z = random.standard_normal(I)   #pseudorandom numbers\n",
    "ST = S0 * exp((r - 0.5 * sigma ** 2) * T + sigma * sqrt(T) * z)   #index value at maturity\n",
    "hT = maximum(ST-K, 0)   #inner values at maturity\n",
    "C0 = exp(-r*T)*sum(hT)/I   #MonteCarlo estimator\n",
    "\n",
    "#result output\n",
    "print \"Vale of the European Call Option %5.3f dollars\" % C0"
   ]
  },
  {
   "cell_type": "code",
   "execution_count": null,
   "metadata": {
    "collapsed": true
   },
   "outputs": [],
   "source": []
  }
 ],
 "metadata": {
  "anaconda-cloud": {},
  "kernelspec": {
   "display_name": "Python [default]",
   "language": "python",
   "name": "python2"
  },
  "language_info": {
   "codemirror_mode": {
    "name": "ipython",
    "version": 2
   },
   "file_extension": ".py",
   "mimetype": "text/x-python",
   "name": "python",
   "nbconvert_exporter": "python",
   "pygments_lexer": "ipython2",
   "version": "2.7.12"
  }
 },
 "nbformat": 4,
 "nbformat_minor": 1
}
